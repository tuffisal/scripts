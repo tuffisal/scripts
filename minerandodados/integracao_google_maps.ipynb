{
 "cells": [
  {
   "cell_type": "code",
   "execution_count": 1,
   "metadata": {},
   "outputs": [
    {
     "name": "stdout",
     "output_type": "stream",
     "text": [
      "Collecting gmplot\n",
      "  Downloading https://files.pythonhosted.org/packages/e2/b1/e1429c31a40b3ef5840c16f78b506d03be9f27e517d3870a6fd0b356bd46/gmplot-1.2.0.tar.gz (115kB)\n",
      "Requirement already satisfied: requests in e:\\programdata\\anaconda3\\lib\\site-packages (from gmplot) (2.22.0)\n",
      "Requirement already satisfied: certifi>=2017.4.17 in e:\\programdata\\anaconda3\\lib\\site-packages (from requests->gmplot) (2019.6.16)\n",
      "Requirement already satisfied: urllib3!=1.25.0,!=1.25.1,<1.26,>=1.21.1 in e:\\programdata\\anaconda3\\lib\\site-packages (from requests->gmplot) (1.24.2)\n",
      "Requirement already satisfied: idna<2.9,>=2.5 in e:\\programdata\\anaconda3\\lib\\site-packages (from requests->gmplot) (2.8)\n",
      "Requirement already satisfied: chardet<3.1.0,>=3.0.2 in e:\\programdata\\anaconda3\\lib\\site-packages (from requests->gmplot) (3.0.4)\n",
      "Building wheels for collected packages: gmplot\n",
      "  Building wheel for gmplot (setup.py): started\n",
      "  Building wheel for gmplot (setup.py): finished with status 'done'\n",
      "  Stored in directory: C:\\Users\\Tuffi\\AppData\\Local\\pip\\Cache\\wheels\\81\\6a\\76\\4dd6a7cc310ba765894159ee84871e8cd55221d82ef14b81a1\n",
      "Successfully built gmplot\n",
      "Installing collected packages: gmplot\n",
      "Successfully installed gmplot-1.2.0\n"
     ]
    }
   ],
   "source": [
    "!pip install gmplot"
   ]
  },
  {
   "cell_type": "code",
   "execution_count": 2,
   "metadata": {},
   "outputs": [],
   "source": [
    "import gmplot"
   ]
  },
  {
   "cell_type": "code",
   "execution_count": 4,
   "metadata": {},
   "outputs": [],
   "source": [
    "# GoogleMapPlotter return Map object \n",
    "# Pass the center latitude and \n",
    "# center longitude \n",
    "gmap1 = gmplot.GoogleMapPlotter(30.3164945, \n",
    "                                78.03219179999999, 13 ) \n",
    "  \n",
    "# Pass the absolute path \n",
    "gmap1.draw( \"E:\\\\DataScience\\\\CursoDataScienceDoZero\\\\temp\\\\map11.html\" ) "
   ]
  },
  {
   "cell_type": "code",
   "execution_count": 8,
   "metadata": {},
   "outputs": [],
   "source": [
    "latitude_list = [ 30.3358376, 30.307977, 30.3216419 ] \n",
    "longitude_list = [ 77.8701919, 78.048457, 78.0413095 ] \n",
    "  \n",
    "gmap3 = gmplot.GoogleMapPlotter(30.3164945, \n",
    "                                78.03219179999999, 13) \n",
    "  \n",
    "# scatter method of map object  \n",
    "# scatter points on the google map \n",
    "gmap3.scatter( latitude_list, longitude_list, '# FF0000', \n",
    "                              size = 40, marker = False ) \n",
    "  \n",
    "# Plot method Draw a line in \n",
    "# between given coordinates \n",
    "gmap3.plot(latitude_list, longitude_list,  \n",
    "           'cornflowerblue', edge_width = 2.5) \n",
    "  \n",
    "gmap3.draw( \"E:\\\\DataScience\\\\CursoDataScienceDoZero\\\\temp\\\\map13.html\" ) "
   ]
  },
  {
   "cell_type": "code",
   "execution_count": 10,
   "metadata": {},
   "outputs": [],
   "source": [
    "latitude_list = [30.3358376, 30.307977, 30.3216419, 30.3427904, \n",
    "                  30.378598, 30.3548185, 30.3345816, 30.387299, \n",
    "                    30.3272198, 30.3840597, 30.4158, 30.340426, \n",
    "                             30.3984348, 30.3431313, 30.273471] \n",
    "  \n",
    "longitude_list = [77.8701919, 78.048457, 78.0413095, 77.886958, \n",
    "                  77.825396, 77.8460573, 78.0537813, 78.090614, \n",
    "                    78.0355272, 77.9311923, 77.9663, 77.952092, \n",
    "                            78.0747887, 77.9555512, 77.9997158] \n",
    "  \n",
    "gmap4 = gmplot.GoogleMapPlotter(30.3164945, 78.03219179999999, 13) \n",
    "  \n",
    "# heatmap plot heating Type \n",
    "# points on the Google map \n",
    "gmap4.heatmap( latitude_list, longitude_list ) \n",
    "  \n",
    "gmap4.draw( \"E:\\\\DataScience\\\\CursoDataScienceDoZero\\\\temp\\\\map14.html\" ) "
   ]
  },
  {
   "cell_type": "code",
   "execution_count": null,
   "metadata": {},
   "outputs": [],
   "source": []
  }
 ],
 "metadata": {
  "kernelspec": {
   "display_name": "Python 3",
   "language": "python",
   "name": "python3"
  },
  "language_info": {
   "codemirror_mode": {
    "name": "ipython",
    "version": 3
   },
   "file_extension": ".py",
   "mimetype": "text/x-python",
   "name": "python",
   "nbconvert_exporter": "python",
   "pygments_lexer": "ipython3",
   "version": "3.7.3"
  }
 },
 "nbformat": 4,
 "nbformat_minor": 2
}
