{
 "cells": [
  {
   "cell_type": "code",
   "execution_count": 3,
   "metadata": {},
   "outputs": [],
   "source": [
    "from textblob import TextBlob\n",
    "import pandas as pd"
   ]
  },
  {
   "cell_type": "code",
   "execution_count": 14,
   "metadata": {},
   "outputs": [],
   "source": [
    "news = pd.read_csv('Modulo9_TextMining\\\\news.csv', sep=';', header=None)"
   ]
  },
  {
   "cell_type": "code",
   "execution_count": 15,
   "metadata": {},
   "outputs": [
    {
     "data": {
      "text/html": [
       "<div>\n",
       "<style scoped>\n",
       "    .dataframe tbody tr th:only-of-type {\n",
       "        vertical-align: middle;\n",
       "    }\n",
       "\n",
       "    .dataframe tbody tr th {\n",
       "        vertical-align: top;\n",
       "    }\n",
       "\n",
       "    .dataframe thead th {\n",
       "        text-align: right;\n",
       "    }\n",
       "</style>\n",
       "<table border=\"1\" class=\"dataframe\">\n",
       "  <thead>\n",
       "    <tr style=\"text-align: right;\">\n",
       "      <th></th>\n",
       "      <th>0</th>\n",
       "      <th>1</th>\n",
       "    </tr>\n",
       "  </thead>\n",
       "  <tbody>\n",
       "    <tr>\n",
       "      <th>0</th>\n",
       "      <td>O capitão américa aparece sobrevoando São Paul...</td>\n",
       "      <td>verdadeiro</td>\n",
       "    </tr>\n",
       "    <tr>\n",
       "      <th>1</th>\n",
       "      <td>A polarização da população gera guerra civil</td>\n",
       "      <td>fake_news</td>\n",
       "    </tr>\n",
       "    <tr>\n",
       "      <th>2</th>\n",
       "      <td>O Chaves se pronuncia e diz está indignado com...</td>\n",
       "      <td>verdadeiro</td>\n",
       "    </tr>\n",
       "    <tr>\n",
       "      <th>3</th>\n",
       "      <td>Morte do precidenciavel X por acidente de aviao</td>\n",
       "      <td>verdadeiro</td>\n",
       "    </tr>\n",
       "    <tr>\n",
       "      <th>4</th>\n",
       "      <td>Monumento de Brasilia é atacado por manifestan...</td>\n",
       "      <td>fake_news</td>\n",
       "    </tr>\n",
       "  </tbody>\n",
       "</table>\n",
       "</div>"
      ],
      "text/plain": [
       "                                                   0           1\n",
       "0  O capitão américa aparece sobrevoando São Paul...  verdadeiro\n",
       "1       A polarização da população gera guerra civil   fake_news\n",
       "2  O Chaves se pronuncia e diz está indignado com...  verdadeiro\n",
       "3    Morte do precidenciavel X por acidente de aviao  verdadeiro\n",
       "4  Monumento de Brasilia é atacado por manifestan...   fake_news"
      ]
     },
     "execution_count": 15,
     "metadata": {},
     "output_type": "execute_result"
    }
   ],
   "source": [
    "news.head()"
   ]
  },
  {
   "cell_type": "code",
   "execution_count": 16,
   "metadata": {},
   "outputs": [
    {
     "data": {
      "text/plain": [
       "array([['O capitão américa aparece sobrevoando São Paulo e diz que irá se candidatar',\n",
       "        'verdadeiro'],\n",
       "       ['A polarização da população gera guerra civil', 'fake_news'],\n",
       "       ['O Chaves se pronuncia e diz está indignado com tanta mentira.',\n",
       "        'verdadeiro'],\n",
       "       ['Morte do precidenciavel X por acidente de aviao', 'verdadeiro'],\n",
       "       ['Monumento de Brasilia é atacado por manifestantes e eleicoes seráo canceladas',\n",
       "        'fake_news'],\n",
       "       ['Novo presidente se diz confiante para governar o pais',\n",
       "        'verdadeiro'],\n",
       "       ['Jair Bolsonaro sobe no ranking de rejeicao no nordeste',\n",
       "        'verdadeiro'],\n",
       "       ['Haddad melhora nas pesquisas apos apoio de Lula', 'verdadeiro'],\n",
       "       ['Disputa no segundo turno está cada vez mais acirrada entre os extremos',\n",
       "        'verdadeiro'],\n",
       "       ['Amoedo declara apoio ao PT', 'fake_news'],\n",
       "       ['Manifestantes em Sao Paulo param avenida pedem intervençao militar!',\n",
       "        'fake_news'],\n",
       "       ['Padre Marcelo Rossi diz que irá se candidatar a presidencia',\n",
       "        'fake_news'],\n",
       "       ['Ex presidente Lula consegue habeas Corpus e pode ser candidato',\n",
       "        'fake_news'],\n",
       "       ['Presidente temmer declara apoio ao partido NOVO', 'fake_news'],\n",
       "       ['Mourao declara que é contra o 13 salario e adiantamento de férias de funcionários',\n",
       "        'verdadeiro']], dtype=object)"
      ]
     },
     "execution_count": 16,
     "metadata": {},
     "output_type": "execute_result"
    }
   ],
   "source": [
    "news.values"
   ]
  },
  {
   "cell_type": "code",
   "execution_count": 17,
   "metadata": {},
   "outputs": [
    {
     "data": {
      "text/plain": [
       "Int64Index([0, 1], dtype='int64')"
      ]
     },
     "execution_count": 17,
     "metadata": {},
     "output_type": "execute_result"
    }
   ],
   "source": [
    "news.columns"
   ]
  },
  {
   "cell_type": "code",
   "execution_count": 18,
   "metadata": {},
   "outputs": [],
   "source": [
    "from textblob.classifiers import NaiveBayesClassifier"
   ]
  },
  {
   "cell_type": "code",
   "execution_count": 19,
   "metadata": {},
   "outputs": [],
   "source": [
    "clf = NaiveBayesClassifier(news.values, format='csv')"
   ]
  },
  {
   "cell_type": "code",
   "execution_count": 20,
   "metadata": {},
   "outputs": [
    {
     "data": {
      "text/plain": [
       "{'contains(mentira)': False,\n",
       " 'contains(avenida)': False,\n",
       " 'contains(pesquisas)': False,\n",
       " 'contains(Disputa)': False,\n",
       " 'contains(Manifestantes)': False,\n",
       " 'contains(no)': False,\n",
       " 'contains(é)': False,\n",
       " 'contains(sobrevoando)': False,\n",
       " 'contains(Lula)': False,\n",
       " 'contains(irá)': False,\n",
       " 'contains(sobe)': False,\n",
       " 'contains(Mourao)': False,\n",
       " 'contains(Novo)': False,\n",
       " 'contains(pais)': False,\n",
       " 'contains(extremos)': False,\n",
       " 'contains(habeas)': False,\n",
       " 'contains(salario)': False,\n",
       " 'contains(rejeicao)': False,\n",
       " 'contains(governar)': False,\n",
       " 'contains(américa)': False,\n",
       " 'contains(pronuncia)': False,\n",
       " 'contains(indignado)': False,\n",
       " 'contains(vez)': False,\n",
       " 'contains(Paulo)': False,\n",
       " 'contains(X)': False,\n",
       " 'contains(NOVO)': False,\n",
       " 'contains(aparece)': False,\n",
       " 'contains(presidente)': False,\n",
       " 'contains(Bolsonaro)': False,\n",
       " 'contains(Brasilia)': False,\n",
       " 'contains(contra)': False,\n",
       " 'contains(em)': False,\n",
       " 'contains(de)': False,\n",
       " 'contains(polarização)': False,\n",
       " 'contains(os)': False,\n",
       " 'contains(Jair)': False,\n",
       " 'contains(O)': False,\n",
       " 'contains(acirrada)': False,\n",
       " 'contains(adiantamento)': False,\n",
       " 'contains(se)': False,\n",
       " 'contains(São)': False,\n",
       " 'contains(manifestantes)': False,\n",
       " 'contains(apoio)': True,\n",
       " 'contains(do)': False,\n",
       " 'contains(candidatar)': False,\n",
       " 'contains(presidencia)': False,\n",
       " 'contains(com)': False,\n",
       " 'contains(pode)': False,\n",
       " 'contains(partido)': False,\n",
       " 'contains(por)': False,\n",
       " 'contains(Chaves)': False,\n",
       " 'contains(população)': False,\n",
       " 'contains(atacado)': False,\n",
       " 'contains(militar)': False,\n",
       " 'contains(confiante)': False,\n",
       " 'contains(Rossi)': False,\n",
       " 'contains(aviao)': False,\n",
       " 'contains(cada)': False,\n",
       " 'contains(e)': False,\n",
       " 'contains(pedem)': False,\n",
       " 'contains(mais)': False,\n",
       " 'contains(Monumento)': False,\n",
       " 'contains(intervençao)': False,\n",
       " 'contains(diz)': False,\n",
       " 'contains(Corpus)': False,\n",
       " 'contains(ranking)': False,\n",
       " 'contains(tanta)': False,\n",
       " 'contains(férias)': False,\n",
       " 'contains(que)': False,\n",
       " 'contains(PT)': False,\n",
       " 'contains(capitão)': False,\n",
       " 'contains(temmer)': False,\n",
       " 'contains(Morte)': False,\n",
       " 'contains(turno)': False,\n",
       " 'contains(consegue)': False,\n",
       " 'contains(funcionários)': False,\n",
       " 'contains(apos)': False,\n",
       " 'contains(Amoedo)': False,\n",
       " 'contains(da)': False,\n",
       " 'contains(para)': False,\n",
       " 'contains(civil)': False,\n",
       " 'contains(entre)': False,\n",
       " 'contains(Haddad)': False,\n",
       " 'contains(guerra)': False,\n",
       " 'contains(13)': False,\n",
       " 'contains(acidente)': False,\n",
       " 'contains(Padre)': False,\n",
       " 'contains(Marcelo)': False,\n",
       " 'contains(seráo)': False,\n",
       " 'contains(declara)': True,\n",
       " 'contains(melhora)': False,\n",
       " 'contains(ser)': False,\n",
       " 'contains(A)': False,\n",
       " 'contains(ao)': False,\n",
       " 'contains(a)': False,\n",
       " 'contains(Ex)': False,\n",
       " 'contains(candidato)': False,\n",
       " 'contains(canceladas)': False,\n",
       " 'contains(Presidente)': False,\n",
       " 'contains(param)': False,\n",
       " 'contains(nordeste)': False,\n",
       " 'contains(nas)': False,\n",
       " 'contains(eleicoes)': False,\n",
       " 'contains(precidenciavel)': False,\n",
       " 'contains(o)': False,\n",
       " 'contains(gera)': False,\n",
       " 'contains(Sao)': False,\n",
       " 'contains(segundo)': False,\n",
       " 'contains(está)': False}"
      ]
     },
     "execution_count": 20,
     "metadata": {},
     "output_type": "execute_result"
    }
   ],
   "source": [
    "clf.extract_features('Chuva declara apoio aos baixinhos')"
   ]
  },
  {
   "cell_type": "code",
   "execution_count": 21,
   "metadata": {},
   "outputs": [
    {
     "data": {
      "text/plain": [
       "'fake_news'"
      ]
     },
     "execution_count": 21,
     "metadata": {},
     "output_type": "execute_result"
    }
   ],
   "source": [
    "clf.classify('Presidente Temer declara apoio a candidato do PSDB')"
   ]
  },
  {
   "cell_type": "code",
   "execution_count": 22,
   "metadata": {},
   "outputs": [],
   "source": [
    "dist_prob = clf.prob_classify('Padre Marcelo Rossi se pronuncia e diz que irá se candidatar')"
   ]
  },
  {
   "cell_type": "code",
   "execution_count": 23,
   "metadata": {},
   "outputs": [
    {
     "data": {
      "text/plain": [
       "0.8336538270304833"
      ]
     },
     "execution_count": 23,
     "metadata": {},
     "output_type": "execute_result"
    }
   ],
   "source": [
    "dist_prob.prob('fake_news')"
   ]
  },
  {
   "cell_type": "code",
   "execution_count": 25,
   "metadata": {},
   "outputs": [
    {
     "data": {
      "text/plain": [
       "0.16634617296951504"
      ]
     },
     "execution_count": 25,
     "metadata": {},
     "output_type": "execute_result"
    }
   ],
   "source": [
    "dist_prob.prob('verdadeiro')"
   ]
  },
  {
   "cell_type": "code",
   "execution_count": 27,
   "metadata": {},
   "outputs": [
    {
     "data": {
      "text/plain": [
       "'fake_news'"
      ]
     },
     "execution_count": 27,
     "metadata": {},
     "output_type": "execute_result"
    }
   ],
   "source": [
    "dist_prob.max()"
   ]
  },
  {
   "cell_type": "code",
   "execution_count": 36,
   "metadata": {},
   "outputs": [],
   "source": [
    "validacao = [\n",
    "    ('O governo temmer propoe reforma trabalhista', 'verdadeiro'),\n",
    "    ('Capitao america e visto em campanha eleitoral do partido NOVO', 'fake_news'),\n",
    "    ('Lula é solto essa madrugada', 'fake_news'),\n",
    "    ('Jair Bolsonaro melhora nas pesquisas apos atentado','verdadeiro')\n",
    "]"
   ]
  },
  {
   "cell_type": "code",
   "execution_count": 37,
   "metadata": {},
   "outputs": [
    {
     "data": {
      "text/plain": [
       "[('O governo temmer propoe reforma trabalhista', 'verdadeiro'),\n",
       " ('Capitao america e visto em campanha eleitoral do partido NOVO',\n",
       "  'fake_news'),\n",
       " ('Lula é solto essa madrugada', 'fake_news'),\n",
       " ('Jair Bolsonaro melhora nas pesquisas apos atentado', 'verdadeiro')]"
      ]
     },
     "execution_count": 37,
     "metadata": {},
     "output_type": "execute_result"
    }
   ],
   "source": [
    "validacao"
   ]
  },
  {
   "cell_type": "code",
   "execution_count": 38,
   "metadata": {},
   "outputs": [
    {
     "data": {
      "text/plain": [
       "0.75"
      ]
     },
     "execution_count": 38,
     "metadata": {},
     "output_type": "execute_result"
    }
   ],
   "source": [
    "clf.accuracy(validacao)"
   ]
  },
  {
   "cell_type": "code",
   "execution_count": 39,
   "metadata": {},
   "outputs": [
    {
     "name": "stdout",
     "output_type": "stream",
     "text": [
      "O governo temmer propoe reforma trabalhista fake_news\n",
      "Capitao america e visto em campanha eleitoral do partido NOVO fake_news\n",
      "Lula é solto essa madrugada fake_news\n",
      "Jair Bolsonaro melhora nas pesquisas apos atentado verdadeiro\n"
     ]
    }
   ],
   "source": [
    "for i in validacao:\n",
    "    print(i[0], clf.classify(i[0]))"
   ]
  },
  {
   "cell_type": "code",
   "execution_count": 41,
   "metadata": {},
   "outputs": [
    {
     "name": "stdout",
     "output_type": "stream",
     "text": [
      "Most Informative Features\n",
      "            contains(de) = True           verdad : fake_n =      2.7 : 1.0\n",
      "            contains(se) = True           verdad : fake_n =      2.1 : 1.0\n",
      "           contains(diz) = True           verdad : fake_n =      2.1 : 1.0\n",
      "       contains(declara) = True           fake_n : verdad =      1.9 : 1.0\n",
      "         contains(apoio) = True           fake_n : verdad =      1.9 : 1.0\n",
      "            contains(de) = False          fake_n : verdad =      1.6 : 1.0\n",
      "           contains(que) = True           verdad : fake_n =      1.5 : 1.0\n",
      "            contains(ao) = False          verdad : fake_n =      1.4 : 1.0\n",
      "           contains(diz) = False          fake_n : verdad =      1.3 : 1.0\n",
      "            contains(se) = False          fake_n : verdad =      1.3 : 1.0\n",
      "             contains(o) = False          fake_n : verdad =      1.3 : 1.0\n",
      "            contains(no) = False          fake_n : verdad =      1.3 : 1.0\n",
      "          contains(está) = False          fake_n : verdad =      1.3 : 1.0\n",
      "             contains(O) = False          fake_n : verdad =      1.3 : 1.0\n",
      "             contains(e) = True           verdad : fake_n =      1.2 : 1.0\n",
      "         contains(apoio) = False          verdad : fake_n =      1.2 : 1.0\n",
      "       contains(declara) = False          verdad : fake_n =      1.2 : 1.0\n",
      "         contains(Rossi) = False          verdad : fake_n =      1.2 : 1.0\n",
      "       contains(militar) = False          verdad : fake_n =      1.2 : 1.0\n",
      "         contains(param) = False          verdad : fake_n =      1.2 : 1.0\n",
      "None\n"
     ]
    }
   ],
   "source": [
    "#Features mais informativas\n",
    "print(clf.show_informative_features(20))"
   ]
  },
  {
   "cell_type": "code",
   "execution_count": null,
   "metadata": {},
   "outputs": [],
   "source": []
  }
 ],
 "metadata": {
  "kernelspec": {
   "display_name": "Python 3",
   "language": "python",
   "name": "python3"
  },
  "language_info": {
   "codemirror_mode": {
    "name": "ipython",
    "version": 3
   },
   "file_extension": ".py",
   "mimetype": "text/x-python",
   "name": "python",
   "nbconvert_exporter": "python",
   "pygments_lexer": "ipython3",
   "version": "3.7.3"
  }
 },
 "nbformat": 4,
 "nbformat_minor": 2
}
